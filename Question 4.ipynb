{
 "cells": [
  {
   "cell_type": "markdown",
   "metadata": {},
   "source": [
    "An electromagnetic simulation, with initial code and ideas borrowed from\n",
    " * Understanding the Finite-Difference Time-Domain Method, John B. Schneider, http://www.eecs.wsu.edu/~schneidj/ufdtd, 2010.\n",
    "## 4. Create a structure as shown in the figure below and visualise the transmitted and reflected fields. Use the absorbing boundary conditions and a hard-wired Gaussian excitation source. Set the maxTime parameter to 2000 to visualise the effect of the different boundary conditions above."
   ]
  },
  {
   "cell_type": "markdown",
   "metadata": {},
   "source": [
    "### (1) Absorbing Boundary Conditions"
   ]
  },
  {
   "cell_type": "code",
   "execution_count": null,
   "metadata": {},
   "outputs": [],
   "source": [
    "# Initialization\n",
    "import math\n",
    "import matplotlib.pyplot as plt\n",
    "import matplotlib.animation as animation\n",
    "from IPython.display import HTML\n",
    "\n",
    "# set parametres, including characteristic impedance, the size of space, time and source.\n",
    "imp0 = 377.0 # property of free space (vacuum)\n",
    "SIZE = 400 # dimension of space to model\n",
    "sensorLocation = 250 # location of output sensor\n",
    "maxTime = 700 # simulation time\n",
    "\n",
    "sourcePeakTime = 30 # peak of the Gaussian source\n",
    "sourceSdv = 7 # standard deviation of the Gaussian source\n",
    "sourceSigma = 2 * sourceSdv**2"
   ]
  },
  {
   "cell_type": "code",
   "execution_count": null,
   "metadata": {},
   "outputs": [],
   "source": [
    "# Absorbing Boundary Conditions and an inhomogeneous medium\n",
    "\n",
    "ims = []   \n",
    "\n",
    "# set up a plot\n",
    "fig, ax = plt.subplots()\n",
    "ax.axvspan(150, 160, alpha=0.3, color='brown') # epsilonR2 = 3.46\n",
    "ax.axvspan(160, 210, alpha=0.3, color='blue') # epsilonR1=12\n",
    "ax.axvspan(210, 220, alpha=0.3, color='brown') # epsilonR2 = 3.46\n",
    "ax.set_xlabel('Space (mm)')\n",
    "ax.set_ylabel('Ez')\n",
    "\n",
    "# initialize parametres\n",
    "ez = [0.0] * SIZE\n",
    "hy = [0.0] * SIZE\n",
    "\n",
    "# free space\n",
    "epsR = [1.0] * SIZE\n",
    "\n",
    "# add  epsilonR2 = 3.46\n",
    "for i in range(150,160):\n",
    "    epsR[i] = 3.46\n",
    "for i in range(210,220):\n",
    "    epsR[i] = 3.46\n",
    "    \n",
    "# add  epsilonR1 = 12\n",
    "for i in range(160,210):\n",
    "    epsR[i] = 12\n",
    "    \n",
    "newMaxTime2=2000 # set a new time \n",
    "# do time stepping\n",
    "for n in range(newMaxTime2):\n",
    "\n",
    "       \n",
    "    # update magnetic field\n",
    "    for i in range(SIZE-1):\n",
    "        hy[SIZE - 1] = hy[SIZE - 2] # ABC: absorbing boudary condition for magnetic field\n",
    "        hy[i] = hy[i] + (ez[i + 1] - ez[i]) / imp0\n",
    "        \n",
    "  # update electric field \n",
    "    for i in range(SIZE):     \n",
    "        if i ==0:\n",
    "            ez[0] = ez[1] # ABC : absorbing boudary condition for electric field\n",
    "        else:\n",
    "            ez[i] = ez[i] + (hy[i] - hy[i - 1]) * imp0 / epsR[i]\n",
    "        \n",
    "    # capture a snapshot of the ez field at this timestep to the animation\n",
    "    ims.append((plt.plot(range(SIZE), ez, color='blue', linewidth=1.5)))\n",
    "\n",
    "    # hardwire a source node: Gaussion excitation source\n",
    "    if n < sourceSigma:\n",
    "        ez[0] = math.exp(-(n - sourcePeakTime)**2 / sourceSigma)\n",
    "\n",
    "#done with time stepping loop\n",
    "\n",
    "#build and display the animation\n",
    "im_ani = animation.ArtistAnimation(fig, ims, interval=50, repeat_delay=5000, blit=True)\n",
    "HTML(im_ani.to_jshtml())\n"
   ]
  },
  {
   "cell_type": "markdown",
   "metadata": {},
   "source": [
    "The simulation of ABC shows that the electric field is absorbed by boundaries after few minutes. The procedure is as follows. Firstly, some part of Ez goes through the slab while some of it reflects.When they arrive at boundaries, they are absorbed. The advantage of absorbing boundaries conditon is that it can model the problem which exists in an infinite space by using finite grids.Secondly, during this process, the magnitude of electric field varies.To be more specific, when electric field goes through from the free space to the first slab and then to the second slab, its magnitude decreases. It is due to the increase of relative permittivity $\\varepsilon_r$. Then the magnitude of electric field increases again from the second slab to the third slab and to the free space as $\\varepsilon_r$ decreases."
   ]
  },
  {
   "cell_type": "markdown",
   "metadata": {},
   "source": [
    "### (2) Transmissivity And Reflectivity"
   ]
  },
  {
   "cell_type": "code",
   "execution_count": null,
   "metadata": {},
   "outputs": [],
   "source": [
    "# Absorbing Boundary Conditions and free space\n",
    "# initialize parametres\n",
    "ez = [0.0] * SIZE\n",
    "hy = [0.0] * SIZE\n",
    "\n",
    "# free space\n",
    "epsR = [1.0] * SIZE\n",
    "\n",
    "    \n",
    "newMaxTime2=2000 # set a new time \n",
    "output_FreeSpace = [0.0] * newMaxTime2 # signal that the sensor receives when there is no slab\n",
    "# do time stepping\n",
    "for n in range(newMaxTime2):\n",
    "\n",
    "    # additive Gausssian source node */\n",
    "    # ez[50] += math.exp(-(n - sourcePeakTime)**2 / sourceSigma);\n",
    "       \n",
    "    # update magnetic field\n",
    "    for i in range(SIZE-1):\n",
    "        hy[SIZE - 1] = hy[SIZE - 2] # ABC: absorbing boudary condition for magnetic field\n",
    "        hy[i] = hy[i] + (ez[i + 1] - ez[i]) / imp0\n",
    "        \n",
    "  # update electric field \n",
    "    for i in range(SIZE):     \n",
    "        if i ==0:\n",
    "            ez[0] = ez[1] # ABC : absorbing boudary condition for electric field\n",
    "    \n",
    "        else:\n",
    "            ez[i] = ez[i] + (hy[i] - hy[i - 1]) * imp0 / epsR[i]\n",
    "\n",
    "    # hardwire a source node: Gaussion excitation source\n",
    "    if n < sourceSigma:\n",
    "        ez[0] = math.exp(-(n - sourcePeakTime)**2 / sourceSigma)\n",
    "\n",
    "    output_FreeSpace[n] = ez[sensorLocation]\n",
    "#done with time stepping loop\n",
    "\n",
    "\n",
    "\n"
   ]
  },
  {
   "cell_type": "code",
   "execution_count": null,
   "metadata": {},
   "outputs": [],
   "source": [
    "# Absorbing Boundary Conditions and an inhomogeneous medium\n",
    "# initialize parametres\n",
    "ez = [0.0] * SIZE\n",
    "hy = [0.0] * SIZE\n",
    "\n",
    "# free space\n",
    "epsR = [1.0] * SIZE\n",
    "\n",
    "# add  epsilonR2 = 3.46\n",
    "for i in range(150,160):\n",
    "    epsR[i] = 3.46\n",
    "for i in range(210,220):\n",
    "    epsR[i] = 3.46\n",
    "    \n",
    "# add  epsilonR1 = 12\n",
    "for i in range(160,210):\n",
    "    epsR[i] = 12\n",
    "    \n",
    "newMaxTime2=2000 # set a new time\n",
    "output_slab = [0.0] * newMaxTime2 # signal that the sensor receives when there is a slab\n",
    "# do time stepping\n",
    "for n in range(newMaxTime2):\n",
    "\n",
    "       \n",
    "    # update magnetic field\n",
    "    for i in range(SIZE-1):\n",
    "        hy[SIZE - 1] = hy[SIZE - 2] # ABC: absorbing boudary condition for magnetic field\n",
    "        hy[i] = hy[i] + (ez[i + 1] - ez[i]) / imp0\n",
    "        \n",
    "  # update electric field \n",
    "    for i in range(SIZE):     \n",
    "        if i ==0:\n",
    "            ez[0] = ez[1] # ABC : absorbing boudary condition for electric field\n",
    "        else:\n",
    "            ez[i] = ez[i] + (hy[i] - hy[i - 1]) * imp0 / epsR[i]\n",
    "\n",
    "    # hardwire a source node: Gaussion excitation source\n",
    "    if n < sourceSigma:\n",
    "        ez[0] = math.exp(-(n - sourcePeakTime)**2 / sourceSigma)\n",
    "    \n",
    "    output_slab[n] = ez[sensorLocation]\n",
    "#done with time stepping loop\n",
    "\n"
   ]
  },
  {
   "cell_type": "code",
   "execution_count": null,
   "metadata": {},
   "outputs": [],
   "source": [
    "base = 0\n",
    "transmitted = 0\n",
    "for n in range(newMaxTime2):\n",
    "    base +=( output_FreeSpace[n])\n",
    "    transmitted += ( output_slab[n])\n",
    "transmission = transmitted/base\n",
    "print('Transmission =',transmission)\n",
    "print('Reflectance =', (1 - transmission))"
   ]
  },
  {
   "cell_type": "markdown",
   "metadata": {},
   "source": [
    " Transmissivity can be seen as a ratio of power of receiving electric field to that of incident electric field. And reflectivity is 1-transmissivity."
   ]
  },
  {
   "cell_type": "markdown",
   "metadata": {},
   "source": [
    "### (3) PEC boundary condition"
   ]
  },
  {
   "cell_type": "code",
   "execution_count": null,
   "metadata": {},
   "outputs": [],
   "source": [
    "# and an inhomogeneous medium\n",
    "ims = []  \n",
    "ims_hy = []  \n",
    "# set up a plot\n",
    "fig, ax = plt.subplots()\n",
    "ax.axvspan(150, 160, alpha=0.3, color='brown') # epsilonR2 = 3.46\n",
    "ax.axvspan(160, 210, alpha=0.3, color='blue') # epsilonR1=12\n",
    "ax.axvspan(210, 220, alpha=0.3, color='brown') # epsilonR2 = 3.46\n",
    "ax.set_xlabel('Space (mm)')\n",
    "ax.set_ylabel('Ez')\n",
    "\n",
    "# initialize electric and magnetic field\n",
    "ez = [0.0] * SIZE\n",
    "hy = [0.0] * SIZE\n",
    "\n",
    "# free space\n",
    "epsR = [1.0] * SIZE\n",
    "\n",
    "# add  epsilonR2 = 3.46\n",
    "for i in range(150,160):\n",
    "    epsR[i] = 3.46\n",
    "for i in range(210,220):\n",
    "    epsR[i] = 3.46\n",
    "    \n",
    "# add  epsilonR1 = 12\n",
    "for i in range(160,210):\n",
    "    epsR[i] = 12\n",
    "\n",
    "newMaxTime2=2000 # set a new time\n",
    "# do time stepping\n",
    "for n in range(newMaxTime2):\n",
    "\n",
    "    # update magnetic field\n",
    "    for i in range(SIZE-1):\n",
    "        hy[i] = hy[i] + (ez[i + 1] - ez[i]) / imp0\n",
    "    \n",
    "    # update electric field\n",
    "    for i in range(SIZE):\n",
    "        ez[i] = ez[i] + (hy[i] - hy[i - 1]) * imp0 / epsR[i]\n",
    "    # capture a snapshot of the ez field at this timestep to the animation\n",
    "    ims.append((plt.plot(range(SIZE), ez, color='blue', linewidth=1)))\n",
    "\n",
    "    # hardwire a source node: Gaussion excitation source\n",
    "    if n < sourceSigma:\n",
    "        ez[0] = math.exp(-(n - sourcePeakTime)**2 / sourceSigma)\n",
    "    else:\n",
    "        ez[0] = 0.0\n",
    "    ## set PEC Boundaries at the right side\n",
    "    ez[(SIZE-1)] = 0.0 \n",
    "\n",
    "#done with time stepping loop\n",
    "\n",
    "#build and display the animation\n",
    "im_ani = animation.ArtistAnimation(fig, ims, interval=50, repeat_delay=5000, blit=True)\n",
    "HTML(im_ani.to_jshtml())"
   ]
  },
  {
   "cell_type": "markdown",
   "metadata": {},
   "source": [
    "The result of PEC is similar with that of ABC when electric field goes through the slab. The key difference is that electric field reflects and changes its sign at the PEC wall."
   ]
  },
  {
   "cell_type": "markdown",
   "metadata": {},
   "source": [
    "### (4) PMC boundary condition"
   ]
  },
  {
   "cell_type": "code",
   "execution_count": null,
   "metadata": {},
   "outputs": [],
   "source": [
    "# and an inhomogeneous medium\n",
    "ims = []  \n",
    "ims_hy = []  \n",
    "# set up a plot\n",
    "# set up a plot\n",
    "fig, ax = plt.subplots()\n",
    "ax.axvspan(150, 160, alpha=0.3, color='brown') # epsilonR2 = 3.46\n",
    "ax.axvspan(160, 210, alpha=0.3, color='blue') # epsilonR1=12\n",
    "ax.axvspan(210, 220, alpha=0.3, color='brown') # epsilonR2 = 3.46\n",
    "ax.set_xlabel('Space (mm)')\n",
    "ax.set_ylabel('Ez')\n",
    "\n",
    "# initialize electric and magnetic field\n",
    "ez = [0.0] * SIZE\n",
    "hy = [0.0] * SIZE\n",
    "\n",
    "# free space\n",
    "epsR = [1.0] * SIZE\n",
    "\n",
    "# add  epsilonR2 = 3.46\n",
    "for i in range(150,160):\n",
    "    epsR[i] = 3.46\n",
    "for i in range(210,220):\n",
    "    epsR[i] = 3.46\n",
    "    \n",
    "# add  epsilonR1 = 12\n",
    "for i in range(160,210):\n",
    "    epsR[i] = 12\n",
    "    \n",
    "newMaxTime2=2000 # set a new time\n",
    "# do time stepping\n",
    "for n in range(newMaxTime2):\n",
    "\n",
    "    # update magnetic field\n",
    "    for i in range(SIZE-1):\n",
    "        hy[i] = hy[i] + (ez[i + 1] - ez[i]) / imp0\n",
    "    \n",
    "    # update electric field\n",
    "    for i in range(SIZE):\n",
    "        ez[i] = ez[i] + (hy[i] - hy[i - 1]) * imp0 / epsR[i]\n",
    "    # capture a snapshot of the ez field at this timestep to the animation\n",
    "    ims.append((plt.plot(range(SIZE), ez, color='brown', linewidth=1)))\n",
    "        \n",
    "    # hardwire a source node: Gaussion excitation source\n",
    "    if n < sourceSigma:\n",
    "        ez[0] = math.exp(-(n - sourcePeakTime)**2 / sourceSigma)\n",
    "    else:\n",
    "        ez[0]=0.0\n",
    "    ## set PMC Boundaries at the right side\n",
    "    hy[(SIZE-1)] = 0.0 \n",
    "        \n",
    "#done with time stepping loop\n",
    "\n",
    "#build and display the animation\n",
    "im_ani = animation.ArtistAnimation(fig, ims, interval=50, repeat_delay=5000, blit=True)\n",
    "HTML(im_ani.to_jshtml())\n",
    "\n"
   ]
  },
  {
   "cell_type": "markdown",
   "metadata": {},
   "source": [
    "The result of PMC is similar with that of ABC when electric field goes through the slab. The vital difference is that electric field reflects from the PMC wall at the right side without changing its sign. Since the left side is PEC wall, electric field reflects and its sign is inverted."
   ]
  },
  {
   "cell_type": "code",
   "execution_count": null,
   "metadata": {},
   "outputs": [],
   "source": []
  }
 ],
 "metadata": {
  "kernelspec": {
   "display_name": "Python 3",
   "language": "python",
   "name": "python3"
  },
  "language_info": {
   "codemirror_mode": {
    "name": "ipython",
    "version": 3
   },
   "file_extension": ".py",
   "mimetype": "text/x-python",
   "name": "python",
   "nbconvert_exporter": "python",
   "pygments_lexer": "ipython3",
   "version": "3.8.5"
  },
  "varInspector": {
   "cols": {
    "lenName": 16,
    "lenType": 16,
    "lenVar": 40
   },
   "kernels_config": {
    "python": {
     "delete_cmd_postfix": "",
     "delete_cmd_prefix": "del ",
     "library": "var_list.py",
     "varRefreshCmd": "print(var_dic_list())"
    },
    "r": {
     "delete_cmd_postfix": ") ",
     "delete_cmd_prefix": "rm(",
     "library": "var_list.r",
     "varRefreshCmd": "cat(var_dic_list()) "
    }
   },
   "types_to_exclude": [
    "module",
    "function",
    "builtin_function_or_method",
    "instance",
    "_Feature"
   ],
   "window_display": false
  }
 },
 "nbformat": 4,
 "nbformat_minor": 4
}
